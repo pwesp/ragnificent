{
 "cells": [
  {
   "cell_type": "markdown",
   "id": "2478fbb8",
   "metadata": {},
   "source": [
    "### Pick a document\n",
    "\n",
    "Can be CSV, PDF, TXT, etc. or a website"
   ]
  },
  {
   "cell_type": "markdown",
   "id": "f374d874",
   "metadata": {},
   "source": [
    "#### PDF"
   ]
  },
  {
   "cell_type": "code",
   "execution_count": null,
   "id": "4fb6b2fa",
   "metadata": {},
   "outputs": [],
   "source": [
    "from langchain_community.document_loaders import PyPDFLoader\n",
    "\n",
    "pdf_path = \"context/Weller et al. - 2025 - On the Theoretical Limitations of Embedding-Based Retrieval.pdf\"\n",
    "\n",
    "loader = PyPDFLoader(\n",
    "    file_path=pdf_path,\n",
    "    mode=\"single\"\n",
    ")\n",
    "docs = loader.load()\n",
    "\n",
    "print(f\"Loaded PDF as {len(docs):d} document(s)\")\n",
    "print(\"-\"*50)\n",
    "print(\"Metadata:\")\n",
    "for k, v in docs[0].metadata.items():\n",
    "    print(f\"{k}: {v}\")\n",
    "print(\"-\"*50)\n",
    "print(\"Page content (preview):\")\n",
    "print(docs[0].page_content[:500] + \"...\")"
   ]
  },
  {
   "cell_type": "markdown",
   "id": "2c0d48c8",
   "metadata": {},
   "source": [
    "#### Wikipedia"
   ]
  },
  {
   "cell_type": "code",
   "execution_count": 1,
   "id": "826a7ad5",
   "metadata": {},
   "outputs": [
    {
     "name": "stdout",
     "output_type": "stream",
     "text": [
      "Loaded 10 document(s)\n",
      "--------------------------------------------------\n",
      "{'title': 'Closed-ended question', 'summary': 'A closed-ended question is any question for which a researcher provides research participants with options from which to choose a response. Closed-ended questions are sometimes phrased as a statement that requires a response.\\nA closed-ended question contrasts with an open-ended question, which cannot easily be answered with specific information.\\n\\n', 'source': 'https://en.wikipedia.org/wiki/Closed-ended_question'}\n",
      "{'title': 'Capital punishment in the United States', 'summary': \"In the United States, capital punishment (also known as the death penalty) is a legal penalty in 27 states (of which two, Oregon and Wyoming, have no inmates sentenced to death), throughout the country at the federal level, and in American Samoa. It is also a legal penalty for some military offenses. Capital punishment has been abolished in the other 23 states and in the federal capital, Washington, D.C. It is usually applied for only the most serious crimes, such as aggravated murder. Although it is a legal penalty in 27 states, 21 of them have authority to execute death sentences, with the other 6, subject to moratoriums.\\nAs of 2025, of the 38 OECD member countries, three (the United States, Japan and South Korea) retain the death penalty. South Korea has observed an unofficial moratorium on executions since 1997. Thus, Japan and Taiwan are the only other advanced democracies with capital punishment. In both countries, the death penalty remains quite broadly supported.\\nCapital punishment in the United States can be traced to early colonial Virginia. There were no executions in the United States between 1967 and 1977. In 1972, the Supreme Court of the United States struck down capital punishment statutes in Furman v. Georgia, reducing all pending death sentences to life imprisonment. Subsequently, a majority of states enacted new death penalty statutes, and the court affirmed the legality of the practice in the 1976 case Gregg v. Georgia. Since then, more than 8,500 defendants have been sentenced to death; of these, more than 1,605 have been executed. Most executions are carried out by states. For every 8.2 people executed, one person on death row has been exonerated, in the modern era. At least 200 people who were sentenced to death since 1973 have been exonerated. That would be about 2.2% or one in 46.\\nIn 2019, the Trump administration's Department of Justice announced its plans to resume executions for federal crimes. On July 14, 2020, Daniel Lewis Lee became the first inmate executed by the federal government since 2003. Thirteen federal death row inmates were executed, all under Trump. The last and most recent federal execution was of Dustin Higgs, who was executed on January 16, 2021. On July 1, 2021, Attorney General Merrick Garland imposed a moratorium on federal executions. In April 2022, 2,414 people were on federal or state death row.\\nOn December 23, 2024, President Joe Biden commuted the sentences of 37 of the 40 individuals on federal civilian death row to life imprisonment without the possibility of parole; 3 people remain on federal death row.  Pursuant to Executive Order 14164, signed by Donald Trump on January 20, 2025, the first day of his second term, Attorney General Pam Bondi issued a memorandum on February 5, 2025 that rescinded the Garland moratorium on federal executions. The memorandum also directed the Justice Department to strengthen the death penalty and seek its application by prosecutors whenever reasonable.\\nThe last public execution in the U.S. took place in 1937 in Missouri, after which most states began requiring executions to be held privately. Laws generally prohibit public attendance, though journalists and selected individuals may witness them. Timothy McVeigh's 2001 execution was viewed by over 200 people, mainly victims' families, via closed-circuit TV.\\n\\n\", 'source': 'https://en.wikipedia.org/wiki/Capital_punishment_in_the_United_States'}\n",
      "{'title': 'France', 'summary': \"France, officially the French Republic, is a country primarily located in Western Europe. Its overseas regions and territories include French Guiana in South America, Saint Pierre and Miquelon in the North Atlantic, the French West Indies, and many islands in Oceania and the Indian Ocean, giving it the largest discontiguous exclusive economic zone in the world. Metropolitan France shares borders with Belgium and Luxembourg to the north; Germany to the northeast; Switzerland to the east; Italy and Monaco to the southeast; Andorra and Spain to the south; and a maritime border with the United Kingdom to the northwest. Its metropolitan area extends from the Rhine to the Atlantic Ocean and from the Mediterranean Sea to the English Channel and the North Sea. Its 18 integral regions—five of which are overseas—span a combined area of 632,702 km2 (244,288 sq mi) and have an estimated total population of over 68.6 million as of January 2025. France is a semi-presidential republic. Its capital, largest city and main cultural and economic centre is Paris.\\nMetropolitan France was settled during the Iron Age by Celtic tribes known as Gauls before Rome annexed the area in 51 BC, leading to a distinct Gallo-Roman culture. In the Early Middle Ages, the Franks formed the kingdom of Francia, which became the heartland of the Carolingian Empire. The Treaty of Verdun of 843 partitioned the empire, with West Francia evolving into the Kingdom of France. In the High Middle Ages, France was a powerful but decentralised feudal kingdom, but from the mid-14th to the mid-15th centuries, France was plunged into a dynastic conflict with England known as the Hundred Years' War. In the 16th century French culture flourished during the French Renaissance, and a French colonial empire emerged. Internally, France was dominated by the conflict with the House of Habsburg and the French Wars of Religion between Catholics and Huguenots. France was successful in the Thirty Years' War and further increased its influence during the reign of Louis XIV.\\nThe French Revolution of 1789 overthrew the Ancien Régime and produced the Declaration of the Rights of Man, which expresses the nation's ideals to this day. France reached its political and military zenith in the early 19th century under Napoleon Bonaparte, subjugating part of continental Europe and establishing the First French Empire. Its collapse initiated a period of relative decline in which France endured the Bourbon Restoration until the founding of the French Second Republic which was succeeded by the Second French Empire upon Napoleon III's takeover. His empire collapsed during the Franco-Prussian War in 1870. This led to the establishment of the French Third Republic, with a period of economic prosperity and cultural and scientific flourishing known as the Belle Époque. France was one of the major participants of World War I, from which it emerged victorious at great human and economic cost. It was among the Allies of World War II, but it surrendered and was occupied in 1940. Following its liberation in 1944, the short-lived Fourth Republic was established and later dissolved in the course of the defeat in the Algerian War. The current Fifth Republic was formed in 1958 by Charles de Gaulle. Algeria and most French colonies became independent in the 1960s, with the majority retaining close economic and military ties with France.\\nFrance retains its centuries-long status as a global centre of art, science, and philosophy. It hosts the fourth-largest number of UNESCO World Heritage Sites and is the world's leading tourist destination, having received 100 million foreign visitors in 2023. A developed country, France has a high nominal per capita income globally, and its economy ranks among the largest in the world by both nominal GDP and PPP-adjusted GDP. It is a great power, being one of the five permanent members of the United Nations Security Council and an official nuclear-weapon state. The country is part of multiple international organisations and forums.\", 'source': 'https://en.wikipedia.org/wiki/France'}\n",
      "{'title': 'Capital punishment', 'summary': 'Capital punishment, also known as the death penalty and formerly called judicial homicide, is the state-sanctioned killing of a person as punishment for actual or supposed misconduct. The sentence ordering that an offender be punished in such a manner is called a death sentence, and the act of carrying out the sentence is an execution. A prisoner who has been sentenced to death and awaits execution is condemned and is commonly referred to as being \"on death row\". Etymologically, the term capital (lit.\\u2009\\'of the head\\', derived via the Latin capitalis from caput, \"head\") refers to execution by beheading, but executions are carried out by many methods.\\nCrimes that are punishable by death are known as capital crimes, capital offences, or capital felonies, and vary depending on the jurisdiction, but commonly include serious crimes against a person, such as murder, assassination, mass murder, child murder, aggravated rape, terrorism, aircraft hijacking, war crimes, crimes against humanity, and genocide, along with crimes against the state such as attempting to overthrow government, treason, espionage, sedition, and piracy. Also, in some cases, acts of recidivism, aggravated robbery, and kidnapping, in addition to drug trafficking, drug dealing, and drug possession, are capital crimes or enhancements. However, states have also imposed punitive executions, for an expansive range of conduct, for political or religious beliefs and practices, for a status beyond one\\'s control, or without employing any significant due process procedures. Judicial murder is the intentional and premeditated killing of an innocent person by means of capital punishment. For example, the executions following the show trials in the Soviet Union during the Great Purge of 1936–1938 were an instrument of political repression.\\nAs of 2021, 56 countries retain capital punishment, 111 countries have taken a position to abolished it de jure for all crimes, 7 have abolished it for ordinary crimes (while maintaining it for special circumstances such as war crimes), and 24 are abolitionist in practice. Although the majority of countries have abolished capital punishment, over half of the world\\'s population live in countries where the death penalty is retained. As of 2023, only 2 out of 38 OECD member countries (the United States and Japan) allow capital punishment.\\nCapital punishment is controversial, with many people, organisations, religious groups, and states holding differing views on whether it is ethically permissible. Amnesty International declares that the death penalty breaches human rights, specifically \"the right to life and the right to live free from torture or cruel, inhuman or degrading treatment or punishment.\" These rights are protected under the Universal Declaration of Human Rights, adopted by the United Nations in 1948. In the European Union (EU), the Charter of Fundamental Rights of the European Union prohibits the use of capital punishment. The Council of Europe, which has 46 member states, has worked to end the death penalty and no execution has taken place in its current member states since 1997. The United Nations General Assembly has adopted, throughout the years from 2007 to 2020, eight non-binding resolutions calling for a global moratorium on executions, with support for eventual abolition.', 'source': 'https://en.wikipedia.org/wiki/Capital_punishment'}\n",
      "{'title': 'What Is a Nation?', 'summary': '\"What Is a Nation?\" (French: Qu\\'est-ce qu\\'une nation ?) is an 1882 lecture by French historian Ernest Renan (1823–1892) at the Sorbonne, known for the statements that a nation is \"a daily plebiscite\", and that nations are based as much on what people jointly forget as on what they remember.  It is frequently quoted or anthologized in works of history or political science pertaining to nationalism and national identity. It exemplifies a contractualist understanding of the nation.', 'source': 'https://en.wikipedia.org/wiki/What_Is_a_Nation%3F'}\n",
      "{'title': 'Capital city', 'summary': 'A capital city, or just capital, is the municipality holding primary status in a country, state, province, department, or other subnational division, usually as its seat of the government. A capital is typically a city that physically encompasses the government\\'s offices and meeting places; the status as capital is often designated by its law or constitution. In some jurisdictions, including several countries, different branches of government are in different settlements, sometimes meaning multiple official capitals. In some cases, a distinction is made between the official (constitutional) capital and the seat of government, which is in another place.\\nEnglish-language media often use the name of the capital metonymically to refer to the government sitting there. Thus, \"London-Washington relations\" is widely understood to mean diplomatic relations between Great Britain and the United States.\\n\\n', 'source': 'https://en.wikipedia.org/wiki/Capital_city'}\n",
      "{'title': 'French Revolution', 'summary': \"The French Revolution was a period of political and societal change in France that began with the Estates General of 1789 and ended with the Coup of 18 Brumaire on 9 November 1799. Many of the revolution's ideas are considered fundamental principles of liberal democracy, and its values remain central to modern French political discourse. It was caused by a combination of social, political, and economic factors which the existing regime proved unable to manage. \\nFinancial crisis and widespread social distress led to the convocation of the Estates General in May 1789, its first meeting since 1614. The representatives of the Third Estate broke away and re-constituted themselves as a National Assembly in June. The Storming of the Bastille in Paris on 14 July led to a series of radical measures by the Assembly, including the abolition of feudalism, state control over the Catholic Church in France, and issuing the Declaration of the Rights of Man and of the Citizen. \\nThe next three years were dominated by a struggle for political control. King Louis XVI's attempted flight to Varennes in June 1791 further discredited the monarchy, and military defeats after the outbreak of the French Revolutionary Wars in April 1792 led to the insurrection of 10 August 1792. As a result, the monarchy was replaced by the French First Republic in September, followed by the execution of Louis XVI himself in January 1793.\\nAfter another revolt in June 1793, the constitution was suspended, and political power passed from the National Convention to the Committee of Public Safety, dominated by radical Jacobins led by Maximilien Robespierre. About 16,000 people were sentenced by the Revolutionary Tribunal and executed in the Reign of Terror, which ended in July 1794 with the Thermidorian Reaction. Weakened by external threats and internal opposition, the Committee of Public Safety was replaced in November 1795 by the Directory. Its instability ended in the coup of 18 Brumaire and the establishment of the Consulate, with Napoleon Bonaparte as First Consul.\\n\\n\", 'source': 'https://en.wikipedia.org/wiki/French_Revolution'}\n",
      "{'title': 'Capital in the Twenty-First Century', 'summary': \"Capital in the Twenty-First Century (French: Le Capital au XXIe siècle) is a book written by French economist Thomas Piketty. It focuses on wealth and income inequality in Europe and the United States since the 18th century. It was first published in French (as Le Capital au XXIe siècle) in August 2013; an English translation by Arthur Goldhammer followed in April 2014.\\nThe book's central thesis is that when the rate of return on capital (r) is greater than the rate of economic growth (g) over the long term, the result is concentration of wealth, and this unequal distribution of wealth causes social and economic instability. Piketty proposes a global system of progressive wealth taxes to help reduce inequality and avoid the vast majority of wealth coming under the control of a tiny minority.\\nAt the end of 2014, Piketty released a paper where he stated that he does not consider the relationship between the rate of return on capital and the rate of economic growth as the only or primary tool for considering changes in income and wealth inequality. He also noted that r > g is not a useful tool for the discussion of rising inequality of labor income.\\nOn May 18, 2014, the English edition reached number one on The New York Times Best Seller list for best selling hardcover nonfiction and became the greatest sales success ever of academic publisher Harvard University Press. As of January 2015, the book had sold 1.5 million copies in French, English, German, Chinese, and Spanish. The book is a worldwide success, with over 2.5 million copies sold by the end of 2017.\\n\\nThe book was adapted into a feature documentary film, directed by New Zealand filmmaker Justin Pemberton,  and released in 2020.\\n\\n\", 'source': 'https://en.wikipedia.org/wiki/Capital_in_the_Twenty-First_Century'}\n",
      "{'title': 'London', 'summary': 'London is the capital and largest city of both England and the United Kingdom, with a population of 9,841,000 in 2025. Its wider metropolitan area is the largest in Western Europe, with a population of 15.1 million. London stands on the River Thames in southeast England, at the head of a 50-mile (80 km) tidal estuary down to the North Sea, and has been a major settlement for nearly 2,000 years. Its ancient core and financial centre, the City of London, was founded by the Romans as Londinium and has retained its medieval boundaries. The City of Westminster, to the west of the City of London, has been the centuries-long host of the national government and parliament. London grew rapidly in the 19th century, becoming the world\\'s largest city at the time. Since the 19th century the name \"London\" has referred to the metropolis around the City of London, historically split between the counties of Middlesex, Essex, Surrey, Kent and Hertfordshire, which since 1965 has largely comprised the administrative area of Greater London, governed by 33 local authorities and the Greater London Authority.\\nAs one of the world\\'s major global cities, London exerts a strong influence on world art, entertainment, fashion, commerce, finance, education, healthcare, media, science, technology, tourism, transport and communications. London is Europe’s most economically powerful city, and is one of the world\\'s major financial centres. London hosts Europe\\'s largest concentration of higher education institutions, comprising over 50 universities and colleges and enrolling more than 500,000 students as at 2023. It is home to several of the world\\'s leading academic institutions: Imperial College London, internationally recognised for its excellence in natural and applied sciences, and University College London (UCL), a comprehensive research-intensive university, consistently rank among the top ten globally. Other notable institutions include King\\'s College London (KCL), highly regarded in law, humanities, and health sciences; the London School of Economics (LSE), globally prominent in social sciences and economics; and specialised institutions such as the Royal College of Art (RCA), Royal Academy of Music (RAM), the Royal Academy of Dramatic Art (RADA), the School of Oriental and African Studies (SOAS) and London Business School (LBS). It is the most-visited city in Europe and has the world\\'s busiest city airport system. The London Underground is the world\\'s oldest rapid transit system.\\nLondon\\'s diverse cultures encompass over 300 languages. The 2025 population of Greater London of just over 9.8 million made it Europe\\'s third-most populous city, accounting for 13.1 per cent of the United Kingdom\\'s population and 15.5 per cent of England\\'s population. The Greater London Built-up Area is the fourth-most populous in Europe, with about 9.8 million inhabitants as of 2011. The London metropolitan area is the third-most-populous in Europe, with about 15 million inhabitants as of 2025, making London a megacity.\\nFour World Heritage Sites are located in London: Kew Gardens; the Tower of London; the site featuring the Palace of Westminster, the Church of St Margaret, and Westminster Abbey; and the historic settlement in Greenwich where the Royal Observatory defines the prime meridian (0° longitude) and Greenwich Mean Time. Other landmarks include Buckingham Palace, the London Eye, Piccadilly Circus, St Paul\\'s Cathedral, Tower Bridge and Trafalgar Square. The city has the most museums, art galleries, libraries and cultural venues in the UK, including the British Museum, the National Gallery, the Natural History Museum, Tate Modern, the British Library and numerous West End theatres. Important sporting events held in London include the FA Cup Final, the Wimbledon Tennis Championships and the London Marathon. It became the first city to host three Summer Olympic Games upon hosting the 2012 Summer Olympics.', 'source': 'https://en.wikipedia.org/wiki/London'}\n",
      "{'title': 'Das Kapital', 'summary': \"Capital: A Critique of Political Economy (German: Das Kapital. Kritik der politischen Ökonomie), also known as Das Kapital (German pronunciation: [das kapiˈtaːl]), is a foundational theoretical text in Marxist philosophy, economics, and politics by Karl Marx. His magnum opus, the work is a critical analysis of political economy, meant to reveal the economic patterns underpinning the capitalist mode of production. Das Kapital is in three volumes, of which only the first was published in Marx's lifetime (1867); the others were completed from his notes and published by his collaborator Friedrich Engels in 1885 and 1894.\\nThe central argument of Das Kapital is that the motivating force of capitalism is in the exploitation of labour, whose unpaid work is the ultimate source of surplus value and profit. Beginning with an analysis of the commodity, Marx argues that the capitalist mode of production is a historically specific system where social relations are mediated by commodity exchange. He posits a labour theory of value, contending that the economic value of a commodity is determined by the socially necessary labour time required for its production. Under this system, the worker's capacity to labour (their labour power) is sold as a commodity, but its use-value—the ability to create new value—is greater than its exchange-value (the wage), allowing the capitalist to extract surplus value. This process drives capital accumulation, which in turn fosters technological change, the creation of a reserve army of labour, and a long-term tendency of the rate of profit to fall, leading to economic crises and intensifying class conflict.\\nIn developing his critique, Marx synthesised and critiqued three main intellectual traditions: the classical political economy of thinkers like Adam Smith and David Ricardo, the German idealist philosophy of Georg Wilhelm Friedrich Hegel, and French socialist thought. His dialectical method aimed to uncover the internal contradictions and historical transience of capitalism. A key theme is commodity fetishism, the process by which the social relations of production are obscured and appear as objective, natural relations between things. Volume I focuses on the production process, Volume II on the circulation of capital, and Volume III on the process as a whole, examining the distribution of surplus value into profit, interest, and rent.\\nDas Kapital is one of the most influential works of social science ever written. Its analysis has been foundational to the international labour movement, socialist and communist political parties, and a wide range of academic disciplines, including sociology, political science, and philosophy. It remains central to Marxian economics and has been highly influential in Western Marxism, critical theory, and cultural studies. The work has been subject to extensive debate and criticism since its publication, particularly concerning its labour theory of value, its predictions about the future of capitalism, and its association with 20th-century communist states.\\n\\n\", 'source': 'https://en.wikipedia.org/wiki/Das_Kapital'}\n"
     ]
    }
   ],
   "source": [
    "from langchain_community.document_loaders import WikipediaLoader\n",
    "\n",
    "loader = WikipediaLoader(\n",
    "    query=\"What is the capital of France?\",\n",
    "    load_max_docs=10\n",
    ")\n",
    "docs = loader.load()\n",
    "\n",
    "print(f\"Loaded {len(docs):d} document(s)\")\n",
    "print(\"-\"*50)\n",
    "for doc in docs:\n",
    "    print(doc.metadata)"
   ]
  },
  {
   "cell_type": "markdown",
   "id": "81055b20",
   "metadata": {},
   "source": [
    "#### Custom Document"
   ]
  },
  {
   "cell_type": "code",
   "execution_count": null,
   "id": "63006472",
   "metadata": {},
   "outputs": [],
   "source": [
    "from langchain_core.documents import Document\n",
    "\n",
    "page_content = \"Hello, world!\"\n",
    "\n",
    "docs = []\n",
    "doc = Document(\n",
    "    page_content=page_content,\n",
    "    metadata={\n",
    "        \"source\": \"My custom document\",\n",
    "        \"title\": \"Title of my custom document\"\n",
    "    }\n",
    ")\n",
    "docs.append(doc)\n",
    "\n",
    "print(\"-\"*50)\n",
    "print(\"Metadata:\")\n",
    "for k, v in docs[0].metadata.items():\n",
    "    print(f\"{k}: {v}\")\n",
    "print(\"-\"*50)\n",
    "print(\"Page content (preview):\")\n",
    "print(docs[0].page_content if len(docs[0].page_content) < 500 else docs[0].page_content[:500] + \"...\")"
   ]
  },
  {
   "cell_type": "markdown",
   "id": "244218c5",
   "metadata": {},
   "source": [
    "#### Website\n",
    "\n",
    "Caveat: Different websites have different structures and require different parsing strategies."
   ]
  },
  {
   "cell_type": "code",
   "execution_count": null,
   "id": "4f2dd8ca",
   "metadata": {},
   "outputs": [],
   "source": [
    "import bs4\n",
    "from langchain_community.document_loaders import WebBaseLoader\n",
    "import os\n",
    "import re\n",
    "os.environ['USER_AGENT'] = (\"Demo\")\n",
    "\n",
    "\"\"\"\n",
    "loader = WebBaseLoader(\n",
    "    web_paths=(\"https://www.pff.com/news/nfl-scores-and-recaps-for-every-week-3-game\",),\n",
    "    bs_kwargs=dict(\n",
    "        parse_only=bs4.SoupStrainer(\"article\")\n",
    "    ),\n",
    ")\n",
    "\"\"\"\n",
    "\n",
    "loader = WebBaseLoader(\n",
    "    web_paths=(\"https://www.cbssports.com/nfl/news/nfl-week-3-grades-scores-results-highlights-browns-packers-vikings-bengals/\",),\n",
    "    bs_kwargs=dict(\n",
    "        parse_only=bs4.SoupStrainer(\"article\")\n",
    "    ),\n",
    ")\n",
    "\n",
    "docs = loader.load()\n",
    "\n",
    "# Clean and condense page content: strip, remove blank lines, trim lines, and join into a single line\n",
    "docs[0].page_content = \" \".join(\n",
    "    line.strip() for line in docs[0].page_content.strip().splitlines() if line.strip()\n",
    ")\n",
    "\n",
    "# Replace sequences of two or more spaces with a single space\n",
    "docs[0].page_content = re.sub(r'\\s{2,}', ' ', docs[0].page_content)\n",
    "\n",
    "print(f\"Loaded Website as {len(docs):d} document(s)\")\n",
    "print(\"-\"*50)\n",
    "print(\"Metadata:\")\n",
    "for k, v in docs[0].metadata.items():\n",
    "    print(f\"{k}: {v}\")\n",
    "print(\"-\"*50)\n",
    "print(\"Page content (preview):\")\n",
    "print(docs[0].page_content if len(docs[0].page_content) < 10000 else docs[0].page_content[:10000] + \"...\")"
   ]
  },
  {
   "cell_type": "markdown",
   "id": "f42b5991",
   "metadata": {},
   "source": [
    "### Chunking"
   ]
  },
  {
   "cell_type": "code",
   "execution_count": null,
   "id": "652cca65",
   "metadata": {},
   "outputs": [],
   "source": [
    "from langchain_text_splitters import RecursiveCharacterTextSplitter\n",
    "\n",
    "# Split document into chunks for vector storage\n",
    "text_splitter = RecursiveCharacterTextSplitter(\n",
    "    chunk_size=500,\n",
    "    chunk_overlap=50,\n",
    "    add_start_index=True,\n",
    ")\n",
    "doc_chunks = text_splitter.split_documents(docs)\n",
    "\n",
    "print(f\"Document split into {len(doc_chunks):d} chunks.\")\n",
    "\n",
    "# Show first few chunks for verification\n",
    "for index, chunk in enumerate(doc_chunks[:3]):\n",
    "    print(f\"\\n\\nChunk {index+1}\")\n",
    "    print(\"-\"*50)\n",
    "    print(\"-\"*50)\n",
    "    print(\"Metadata:\")\n",
    "    for k, v in chunk.metadata.items():\n",
    "        print(f\"{k}: {v}\")\n",
    "    print(\"-\"*50)\n",
    "    print(\"Page content:\")\n",
    "    print(chunk.page_content if len(chunk.page_content) < 500 else chunk.page_content[:500] + \"...\")"
   ]
  },
  {
   "cell_type": "markdown",
   "id": "9128fad4",
   "metadata": {},
   "source": [
    "### Embed documents"
   ]
  },
  {
   "cell_type": "code",
   "execution_count": null,
   "id": "b8006a5d",
   "metadata": {},
   "outputs": [],
   "source": [
    "from langchain_core.vectorstores import InMemoryVectorStore\n",
    "from langchain_huggingface import HuggingFaceEmbeddings"
   ]
  },
  {
   "cell_type": "code",
   "execution_count": null,
   "id": "93a8cb3f",
   "metadata": {},
   "outputs": [],
   "source": [
    "#embedding_model_name = \"intfloat/multilingual-e5-base\"\n",
    "#embedding_model_name = \"Qwen/Qwen2.5-0.5B\"\n",
    "#embedding_model_name = \"Qwen/Qwen3-Embedding-0.6B\"\n",
    "embedding_model_name = \"Qwen/Qwen3-Embedding-4B\"\n",
    "#embedding_model_name = \"sentence-transformers/all-MiniLM-L6-v2\"\n",
    "\n",
    "embedding_function = HuggingFaceEmbeddings(\n",
    "    model_name=embedding_model_name,\n",
    "    model_kwargs={\"device\": \"cuda\"},\n",
    "    encode_kwargs={\"normalize_embeddings\": True},\n",
    ")\n",
    "vector_store = InMemoryVectorStore(embedding=embedding_function)"
   ]
  },
  {
   "cell_type": "code",
   "execution_count": null,
   "id": "9b196780",
   "metadata": {},
   "outputs": [],
   "source": [
    "# Add documents to vector store\n",
    "document_chunk_ids = vector_store.add_documents(documents=doc_chunks)\n",
    "\n",
    "print(f\"Added {len(document_chunk_ids):d} documents to the vector store\")"
   ]
  },
  {
   "cell_type": "code",
   "execution_count": null,
   "id": "108e43c7",
   "metadata": {},
   "outputs": [],
   "source": [
    "# Inspect vector store\n",
    "n_chunks = 5\n",
    "for index, (id, doc) in enumerate(vector_store.store.items()):\n",
    "    if index < n_chunks:\n",
    "        print(\"\\n\"+\"-\"*100)\n",
    "        print(f\"Chunk {index+1}\\n\")\n",
    "        print(f\"id: {id}\")\n",
    "        print(f\"vector (length: {len(doc['vector'])}): {doc['vector']}\")\n",
    "        print(f\"metadata: {doc['metadata']}\")\n",
    "        print(f\"text:\\n{doc['text'][:100]}\")\n",
    "    else:\n",
    "        break"
   ]
  },
  {
   "cell_type": "markdown",
   "id": "1198d4e9",
   "metadata": {},
   "source": [
    "### Test vector store"
   ]
  },
  {
   "cell_type": "code",
   "execution_count": null,
   "id": "9f324d49",
   "metadata": {},
   "outputs": [],
   "source": [
    "# Test vector store with a sample query\n",
    "query = \"Who was the Vikings' starting quarterback in week 3?\"\n",
    "\n",
    "top_k = 5\n",
    "similar_document_chunks = vector_store.similarity_search_with_score(query, k=top_k)\n",
    "\n",
    "print(f\"List of {len(similar_document_chunks):d} most similar document chunks for query: '{query:s}'\")\n",
    "\n",
    "for i, (doc, score) in enumerate(similar_document_chunks):\n",
    "    if i < top_k:\n",
    "        print(\"\\n\" + \"-\"*50)\n",
    "        print(f\"Result {i+1} (Similarity Score: {score:.4f})\")\n",
    "        print(f\"\\tid: {doc.id}\")\n",
    "        print(f\"\\tmetadata: {doc.metadata}\")\n",
    "        print(f\"\\tpage content: {doc.page_content if len(doc.page_content) < 300 else doc.page_content[:300] + '...'}\")\n",
    "    else:\n",
    "        break"
   ]
  },
  {
   "cell_type": "markdown",
   "id": "589b6b3a",
   "metadata": {},
   "source": [
    "### Set up RAG query"
   ]
  },
  {
   "cell_type": "code",
   "execution_count": null,
   "id": "ec61a1aa",
   "metadata": {},
   "outputs": [],
   "source": [
    "from langchain_core.prompts import ChatPromptTemplate\n",
    "\n",
    "# Create prompt template for RAG system\n",
    "chat_prompt = ChatPromptTemplate.from_messages([\n",
    "    (\"system\",\n",
    "    \"\"\"\n",
    "    You are an AI assistant that answers questions based on provided context documents. \n",
    "    \"\"\"\n",
    "    ),\n",
    "    (\"human\",\n",
    "    \"\"\"\n",
    "    Answer the question based on the context.\n",
    "\n",
    "    CRITICAL RULES:\n",
    "    - Answer concisely\n",
    "    - Use information from the provided context\n",
    "    - If the context doesn't contain enough information, state this clearly\n",
    "    - Cite specific details from the context when possible\n",
    "\n",
    "    CONTEXT:\n",
    "    {context}\n",
    "\n",
    "    QUESTION: {input}\n",
    "\n",
    "    ANSWER:\n",
    "    \"\"\"\n",
    "    )\n",
    "])"
   ]
  },
  {
   "cell_type": "markdown",
   "id": "7763a811",
   "metadata": {},
   "source": [
    "### Load LLM"
   ]
  },
  {
   "cell_type": "code",
   "execution_count": null,
   "id": "70335759",
   "metadata": {},
   "outputs": [],
   "source": [
    "from langchain_huggingface import HuggingFacePipeline\n",
    "from transformers import AutoModelForCausalLM, AutoTokenizer, pipeline\n",
    "\n",
    "model_name = \"google/gemma-3-1b-it\"\n",
    "print(f\"Loading llm <{model_name:s}>\")\n",
    "\n",
    "# Load llm\n",
    "tokenizer = AutoTokenizer.from_pretrained(model_name)\n",
    "model = AutoModelForCausalLM.from_pretrained(model_name)\n",
    "\n",
    "# Create text generation pipeline\n",
    "text_generation_pipeline = pipeline(\n",
    "    task=\"text-generation\",\n",
    "    model=model,\n",
    "    tokenizer=tokenizer,\n",
    "    return_full_text=False,\n",
    "    max_new_tokens=250,    # Limit answer length for concise RAG responses\n",
    "    temperature=0.2,       # Low randomness, mostly deterministic\n",
    "    top_p=0.95,            # Sample from top 95% probable tokens\n",
    "    repetition_penalty=1.2 # Penalize repeated content to improve answer quality\n",
    ")\n",
    "\n",
    "# Wrap pipeline for LangChain\n",
    "llm = HuggingFacePipeline(pipeline=text_generation_pipeline)"
   ]
  },
  {
   "cell_type": "markdown",
   "id": "b305c3f2",
   "metadata": {},
   "source": [
    "### The stuff documents chain\n",
    "\n",
    "Takes your dummy_docs (like Peter's first name + Peter's last name)\n",
    "Smooshes them all together into one big text\n",
    "\n",
    "Uses your chat_prompt (the template that says \"Hey AI, here's some context...\")\n",
    "Fills in the template with the smooshed-together documents\n",
    "\n",
    "Sends everything to the llm (your AI friend)\n",
    "Gets back a nice, smart answer"
   ]
  },
  {
   "cell_type": "code",
   "execution_count": null,
   "id": "a125bc30",
   "metadata": {},
   "outputs": [],
   "source": [
    "from langchain.chains.combine_documents import create_stuff_documents_chain\n",
    "\n",
    "combine_docs_chain = create_stuff_documents_chain(llm, chat_prompt)\n",
    "\n",
    "retriever = vector_store.as_retriever(\n",
    "    search_type=\"similarity\",\n",
    "    search_kwargs={\n",
    "        \"k\": 5,\n",
    "        \"score_threshold\": 0.7,\n",
    "    }\n",
    ")\n",
    "\n",
    "dummy_docs = [\n",
    "    Document(\n",
    "    page_content=\"My first name is Peter.\",\n",
    "    metadata={\"doc-nr.\": \"1\"}\n",
    "    ),\n",
    "    Document(\n",
    "    page_content=\"My last name is Parker.\",\n",
    "    metadata={\"doc-nr.\": \"2\"}\n",
    "    )\n",
    "]"
   ]
  },
  {
   "cell_type": "code",
   "execution_count": null,
   "id": "cd6b274b",
   "metadata": {},
   "outputs": [],
   "source": [
    "response = combine_docs_chain.invoke({\"context\": dummy_docs, \"input\": \"What is the person's full name?\"})\n",
    "print(f\"Response:\")\n",
    "print(\"-\"*50)\n",
    "print(f\"{response:s}\")"
   ]
  },
  {
   "cell_type": "markdown",
   "id": "0e1e3d2d",
   "metadata": {},
   "source": [
    "### Retrieval chain\n",
    "\n",
    "We don't want ALL the context, just the most relevant parts\n",
    "\n",
    "So we use the retriever to get the most relevant parts\n",
    "Then we use the stuff documents chain to answer the question"
   ]
  },
  {
   "cell_type": "code",
   "execution_count": null,
   "id": "79a3688d",
   "metadata": {},
   "outputs": [],
   "source": [
    "from langchain.chains import create_retrieval_chain\n",
    "\n",
    "retrieval_chain = create_retrieval_chain(retriever, combine_docs_chain)\n",
    "\n",
    "response = retrieval_chain.invoke({\"input\": \"What is this document about?\"})"
   ]
  },
  {
   "cell_type": "code",
   "execution_count": null,
   "id": "2ca7867e",
   "metadata": {},
   "outputs": [],
   "source": [
    "print(\"ANSWER\")\n",
    "print(\"-\"*50)\n",
    "print(f\"{response['answer']:s}\")\n",
    "print(\"\\n\\n\")\n",
    "\n",
    "print(\"CONTEXT\")\n",
    "print(\"-\"*50)\n",
    "for i, doc in enumerate(response['context']):\n",
    "    print(f\"Document {i+1}:\")\n",
    "    for key, value in doc.metadata.items():\n",
    "        print(f\"\\t{key}: {value}\")\n",
    "    print(f\"\\tPage content: {doc.page_content if len(doc.page_content) < 300 else doc.page_content[:300] + '...'}\")\n",
    "    print(\"\\n\")\n",
    "print(\"\\n\\n\")"
   ]
  },
  {
   "cell_type": "markdown",
   "id": "a7fb5099",
   "metadata": {},
   "source": [
    "### Compare LLM vs RAG"
   ]
  },
  {
   "cell_type": "code",
   "execution_count": null,
   "id": "cbf8b24c",
   "metadata": {},
   "outputs": [],
   "source": [
    "question = \"Who was the Vikings' starting quarterback in week 3?\"\n",
    "print(f\"Question: {question}\")\n",
    "print(\"\\n\")\n",
    "\n",
    "print(\"LLM without context:\")\n",
    "print(\"-\"*50)\n",
    "llm_response = llm.invoke(question)\n",
    "print(f\"Answer: {llm_response}\")\n",
    "print(\"\\n\\n\")\n",
    "\n",
    "print(\"RAG system with context:\")\n",
    "print(\"-\"*50)\n",
    "rag_response = retrieval_chain.invoke({\"input\": question})\n",
    "print(f\"Answer: {rag_response['answer']}\")\n",
    "\n",
    "print(\"Context:\")\n",
    "for i, doc in enumerate(rag_response['context']):\n",
    "    print(f\"Document {i+1}:\")\n",
    "    for key, value in doc.metadata.items():\n",
    "        print(f\"\\t{key}: {value}\")\n",
    "    print(f\"\\tPage content: {doc.page_content if len(doc.page_content) < 300 else doc.page_content[:300] + '...'}\")\n",
    "    print(\"\\n\")\n",
    "print(\"\\n\\n\")"
   ]
  }
 ],
 "metadata": {
  "kernelspec": {
   "display_name": "ragnificent",
   "language": "python",
   "name": "python3"
  },
  "language_info": {
   "codemirror_mode": {
    "name": "ipython",
    "version": 3
   },
   "file_extension": ".py",
   "mimetype": "text/x-python",
   "name": "python",
   "nbconvert_exporter": "python",
   "pygments_lexer": "ipython3",
   "version": "3.12.11"
  }
 },
 "nbformat": 4,
 "nbformat_minor": 5
}
